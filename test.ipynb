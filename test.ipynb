{
 "cells": [
  {
   "cell_type": "code",
   "execution_count": 275,
   "metadata": {},
   "outputs": [],
   "source": [
    "import matplotlib.pyplot as plt\n",
    "import numpy as np\n",
    "import pandas as pd\n",
    "%matplotlib inline\n",
    "from IPython.display import HTML\n"
   ]
  },
  {
   "cell_type": "code",
   "execution_count": 281,
   "metadata": {},
   "outputs": [],
   "source": [
    "c=\"\"\"123,456,789,123,456,789\"\"\"\n",
    "a=\"\"\n",
    "b=\"koku,suu,rika\"\n"
   ]
  },
  {
   "cell_type": "code",
   "execution_count": 290,
   "metadata": {},
   "outputs": [
    {
     "output_type": "stream",
     "name": "stdout",
     "text": [
      "0\n"
     ]
    }
   ],
   "source": [
    "a2=a.split(',')\n",
    "b2=b.split(\",\")\n",
    "a3,b3=[],[]\n",
    "for aa in a2:\n",
    "    if a.strip()==\"\":\n",
    "        break\n",
    "    else:\n",
    "        a3.append(aa)\n",
    "\n",
    "for bb in b2:\n",
    "    b3.append(bb) \n",
    "f=[] \n",
    "\n",
    "d=c.strip().split(\",\") \n",
    "for i in d:\n",
    "    f.append(i)\n",
    "print(len(a3))    \n",
    "f=np.array(f)          "
   ]
  },
  {
   "cell_type": "code",
   "execution_count": 291,
   "metadata": {
    "scrolled": true
   },
   "outputs": [
    {
     "output_type": "stream",
     "name": "stdout",
     "text": [
      "2\n"
     ]
    }
   ],
   "source": [
    "a3_size=len(a3)\n",
    "b3_size=len(b3)\n",
    "print(int(f.size/b3_size))\n",
    "if b3_size>1:\n",
    "    f=np.array(f).reshape(int(f.size/b3_size),b3_size)     \n",
    "else:\n",
    "    f=np.array(f)         "
   ]
  },
  {
   "cell_type": "code",
   "execution_count": 292,
   "metadata": {},
   "outputs": [],
   "source": [
    "if a3_size<1:\n",
    "    c2=pd.DataFrame(f,columns=b3,index=None)\n",
    "else:\n",
    "    c2=pd.DataFrame(f,columns=b3,index=a3)       "
   ]
  },
  {
   "cell_type": "code",
   "execution_count": 293,
   "metadata": {},
   "outputs": [
    {
     "output_type": "execute_result",
     "data": {
      "text/plain": [
       "  koku  suu rika\n",
       "0  123  456  789\n",
       "1  123  456  789"
      ],
      "text/html": "<div>\n<style scoped>\n    .dataframe tbody tr th:only-of-type {\n        vertical-align: middle;\n    }\n\n    .dataframe tbody tr th {\n        vertical-align: top;\n    }\n\n    .dataframe thead th {\n        text-align: right;\n    }\n</style>\n<table border=\"1\" class=\"dataframe\">\n  <thead>\n    <tr style=\"text-align: right;\">\n      <th></th>\n      <th>koku</th>\n      <th>suu</th>\n      <th>rika</th>\n    </tr>\n  </thead>\n  <tbody>\n    <tr>\n      <th>0</th>\n      <td>123</td>\n      <td>456</td>\n      <td>789</td>\n    </tr>\n    <tr>\n      <th>1</th>\n      <td>123</td>\n      <td>456</td>\n      <td>789</td>\n    </tr>\n  </tbody>\n</table>\n</div>"
     },
     "metadata": {},
     "execution_count": 293
    }
   ],
   "source": [
    "c2"
   ]
  },
  {
   "cell_type": "code",
   "execution_count": 286,
   "metadata": {},
   "outputs": [
    {
     "output_type": "execute_result",
     "data": {
      "text/plain": [
       "<IPython.core.display.HTML object>"
      ],
      "text/html": "<table border=\"1\" class=\"dataframe table table-striped\">\n  <thead>\n    <tr style=\"text-align: right;\">\n      <th></th>\n      <th>koku</th>\n      <th>suu</th>\n      <th>rika</th>\n    </tr>\n  </thead>\n  <tbody>\n    <tr>\n      <th>0</th>\n      <td>123</td>\n      <td>456</td>\n      <td>789</td>\n    </tr>\n    <tr>\n      <th>1</th>\n      <td>123</td>\n      <td>456</td>\n      <td>789</td>\n    </tr>\n  </tbody>\n</table>"
     },
     "metadata": {},
     "execution_count": 286
    }
   ],
   "source": [
    "\n",
    "ANS=HTML(c2.to_html(classes='table table-striped'))\n",
    "ANS"
   ]
  },
  {
   "cell_type": "code",
   "execution_count": 142,
   "metadata": {},
   "outputs": [],
   "source": [
    "c2.to_excel('templates/excelfolder/to_csv.xlsx')\n"
   ]
  },
  {
   "cell_type": "code",
   "execution_count": null,
   "metadata": {},
   "outputs": [],
   "source": []
  }
 ],
 "metadata": {
  "kernelspec": {
   "name": "python385jvsc74a57bd0867114820d6a73346ee9b2a01f1354e15484b1e2c4bc8ed07899517e9ec63e29",
   "display_name": "Python 3.8.5 64-bit ('base': conda)"
  },
  "language_info": {
   "codemirror_mode": {
    "name": "ipython",
    "version": 3
   },
   "file_extension": ".py",
   "mimetype": "text/x-python",
   "name": "python",
   "nbconvert_exporter": "python",
   "pygments_lexer": "ipython3",
   "version": "3.8.5"
  }
 },
 "nbformat": 4,
 "nbformat_minor": 4
}